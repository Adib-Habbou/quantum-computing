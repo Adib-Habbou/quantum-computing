{
  "nbformat": 4,
  "nbformat_minor": 0,
  "metadata": {
    "colab": {
      "name": "qiskit-teleportation-circuit.ipynb",
      "provenance": [],
      "collapsed_sections": []
    },
    "kernelspec": {
      "name": "python3",
      "display_name": "Python 3"
    },
    "language_info": {
      "name": "python"
    },
    "accelerator": "GPU",
    "gpuClass": "standard"
  },
  "cells": [
    {
      "cell_type": "markdown",
      "source": [
        "# Qiskit Demo"
      ],
      "metadata": {
        "id": "V8LeD9PCDt3U"
      }
    },
    {
      "cell_type": "markdown",
      "source": [
        "## Setup"
      ],
      "metadata": {
        "id": "kDbcLKwxKnYz"
      }
    },
    {
      "cell_type": "markdown",
      "source": [
        "### Installing Qiskit"
      ],
      "metadata": {
        "id": "OUM1vplIDxeq"
      }
    },
    {
      "cell_type": "code",
      "source": [
        "!pip install qiskit"
      ],
      "metadata": {
        "colab": {
          "base_uri": "https://localhost:8080/"
        },
        "id": "t-ppGGtNBQ-b",
        "outputId": "cac779fd-335e-435d-fb98-b75f48f22354"
      },
      "execution_count": 51,
      "outputs": [
        {
          "output_type": "stream",
          "name": "stdout",
          "text": [
            "Looking in indexes: https://pypi.org/simple, https://us-python.pkg.dev/colab-wheels/public/simple/\n",
            "Requirement already satisfied: qiskit in /usr/local/lib/python3.7/dist-packages (0.37.1)\n",
            "Requirement already satisfied: qiskit-ibmq-provider==0.19.2 in /usr/local/lib/python3.7/dist-packages (from qiskit) (0.19.2)\n",
            "Requirement already satisfied: qiskit-aer==0.10.4 in /usr/local/lib/python3.7/dist-packages (from qiskit) (0.10.4)\n",
            "Requirement already satisfied: qiskit-terra==0.21.1 in /usr/local/lib/python3.7/dist-packages (from qiskit) (0.21.1)\n",
            "Requirement already satisfied: scipy>=1.0 in /usr/local/lib/python3.7/dist-packages (from qiskit-aer==0.10.4->qiskit) (1.7.3)\n",
            "Requirement already satisfied: numpy>=1.16.3 in /usr/local/lib/python3.7/dist-packages (from qiskit-aer==0.10.4->qiskit) (1.21.6)\n",
            "Requirement already satisfied: websockets>=10.0 in /usr/local/lib/python3.7/dist-packages (from qiskit-ibmq-provider==0.19.2->qiskit) (10.3)\n",
            "Requirement already satisfied: requests-ntlm>=1.1.0 in /usr/local/lib/python3.7/dist-packages (from qiskit-ibmq-provider==0.19.2->qiskit) (1.1.0)\n",
            "Requirement already satisfied: urllib3>=1.21.1 in /usr/local/lib/python3.7/dist-packages (from qiskit-ibmq-provider==0.19.2->qiskit) (1.24.3)\n",
            "Requirement already satisfied: websocket-client>=1.0.1 in /usr/local/lib/python3.7/dist-packages (from qiskit-ibmq-provider==0.19.2->qiskit) (1.3.3)\n",
            "Requirement already satisfied: requests>=2.19 in /usr/local/lib/python3.7/dist-packages (from qiskit-ibmq-provider==0.19.2->qiskit) (2.23.0)\n",
            "Requirement already satisfied: python-dateutil>=2.8.0 in /usr/local/lib/python3.7/dist-packages (from qiskit-ibmq-provider==0.19.2->qiskit) (2.8.2)\n",
            "Requirement already satisfied: tweedledum<2.0,>=1.1 in /usr/local/lib/python3.7/dist-packages (from qiskit-terra==0.21.1->qiskit) (1.1.1)\n",
            "Requirement already satisfied: dill>=0.3 in /usr/local/lib/python3.7/dist-packages (from qiskit-terra==0.21.1->qiskit) (0.3.5.1)\n",
            "Requirement already satisfied: psutil>=5 in /usr/local/lib/python3.7/dist-packages (from qiskit-terra==0.21.1->qiskit) (5.4.8)\n",
            "Requirement already satisfied: ply>=3.10 in /usr/local/lib/python3.7/dist-packages (from qiskit-terra==0.21.1->qiskit) (3.11)\n",
            "Requirement already satisfied: symengine>=0.9 in /usr/local/lib/python3.7/dist-packages (from qiskit-terra==0.21.1->qiskit) (0.9.2)\n",
            "Requirement already satisfied: shared-memory38 in /usr/local/lib/python3.7/dist-packages (from qiskit-terra==0.21.1->qiskit) (0.1.2)\n",
            "Requirement already satisfied: retworkx>=0.11.0 in /usr/local/lib/python3.7/dist-packages (from qiskit-terra==0.21.1->qiskit) (0.11.0)\n",
            "Requirement already satisfied: typing-extensions in /usr/local/lib/python3.7/dist-packages (from qiskit-terra==0.21.1->qiskit) (4.1.1)\n",
            "Requirement already satisfied: stevedore>=3.0.0 in /usr/local/lib/python3.7/dist-packages (from qiskit-terra==0.21.1->qiskit) (3.5.0)\n",
            "Requirement already satisfied: sympy>=1.3 in /usr/local/lib/python3.7/dist-packages (from qiskit-terra==0.21.1->qiskit) (1.7.1)\n",
            "Requirement already satisfied: six>=1.5 in /usr/local/lib/python3.7/dist-packages (from python-dateutil>=2.8.0->qiskit-ibmq-provider==0.19.2->qiskit) (1.15.0)\n",
            "Requirement already satisfied: idna<3,>=2.5 in /usr/local/lib/python3.7/dist-packages (from requests>=2.19->qiskit-ibmq-provider==0.19.2->qiskit) (2.10)\n",
            "Requirement already satisfied: certifi>=2017.4.17 in /usr/local/lib/python3.7/dist-packages (from requests>=2.19->qiskit-ibmq-provider==0.19.2->qiskit) (2022.6.15)\n",
            "Requirement already satisfied: chardet<4,>=3.0.2 in /usr/local/lib/python3.7/dist-packages (from requests>=2.19->qiskit-ibmq-provider==0.19.2->qiskit) (3.0.4)\n",
            "Requirement already satisfied: cryptography>=1.3 in /usr/local/lib/python3.7/dist-packages (from requests-ntlm>=1.1.0->qiskit-ibmq-provider==0.19.2->qiskit) (37.0.4)\n",
            "Requirement already satisfied: ntlm-auth>=1.0.2 in /usr/local/lib/python3.7/dist-packages (from requests-ntlm>=1.1.0->qiskit-ibmq-provider==0.19.2->qiskit) (1.5.0)\n",
            "Requirement already satisfied: cffi>=1.12 in /usr/local/lib/python3.7/dist-packages (from cryptography>=1.3->requests-ntlm>=1.1.0->qiskit-ibmq-provider==0.19.2->qiskit) (1.15.1)\n",
            "Requirement already satisfied: pycparser in /usr/local/lib/python3.7/dist-packages (from cffi>=1.12->cryptography>=1.3->requests-ntlm>=1.1.0->qiskit-ibmq-provider==0.19.2->qiskit) (2.21)\n",
            "Requirement already satisfied: pbr!=2.1.0,>=2.0.0 in /usr/local/lib/python3.7/dist-packages (from stevedore>=3.0.0->qiskit-terra==0.21.1->qiskit) (5.9.0)\n",
            "Requirement already satisfied: importlib-metadata>=1.7.0 in /usr/local/lib/python3.7/dist-packages (from stevedore>=3.0.0->qiskit-terra==0.21.1->qiskit) (4.12.0)\n",
            "Requirement already satisfied: zipp>=0.5 in /usr/local/lib/python3.7/dist-packages (from importlib-metadata>=1.7.0->stevedore>=3.0.0->qiskit-terra==0.21.1->qiskit) (3.8.1)\n",
            "Requirement already satisfied: mpmath>=0.19 in /usr/local/lib/python3.7/dist-packages (from sympy>=1.3->qiskit-terra==0.21.1->qiskit) (1.2.1)\n"
          ]
        }
      ]
    },
    {
      "cell_type": "markdown",
      "source": [
        "### Importing libraries"
      ],
      "metadata": {
        "id": "dY6r08RFKi1t"
      }
    },
    {
      "cell_type": "code",
      "source": [
        "from qiskit import QuantumCircuit, Aer, execute\n",
        "from qiskit.tools.visualization import plot_histogram"
      ],
      "metadata": {
        "id": "-FaZ0rGTKgvU"
      },
      "execution_count": 52,
      "outputs": []
    },
    {
      "cell_type": "markdown",
      "source": [
        "## Building Circuit"
      ],
      "metadata": {
        "id": "_3hlcQ5JKznz"
      }
    },
    {
      "cell_type": "markdown",
      "source": [
        "### Circuit initialisation\n",
        "\n",
        "For the simplest programs with very few qubits, it is useful to represent this process in a diagram known as a circuit diagram.\n",
        "\n",
        "These have inputs on the left, outputs on the right, and operations represented by arcane symbols in between.\n",
        "\n",
        "These operations are called gates: [Quantum Logic Gates](https://en.wikipedia.org/wiki/Quantum_logic_gate)\n",
        "\n",
        "In a circuit, we typically need to do three jobs:\n",
        "\n",
        "* Encode the input\n",
        "* Do some actual computation\n",
        "* Extract an output"
      ],
      "metadata": {
        "id": "41t3ZEtSD3CE"
      }
    },
    {
      "cell_type": "code",
      "source": [
        "# creating quantum circuit\n",
        "qc = QuantumCircuit(3, 3)"
      ],
      "metadata": {
        "id": "26A2nQnzD_pq"
      },
      "execution_count": 53,
      "outputs": []
    },
    {
      "cell_type": "markdown",
      "source": [
        "### Step 0: Create the state to be teleported in qubit 0"
      ],
      "metadata": {
        "id": "h779pIxhW0oB"
      }
    },
    {
      "cell_type": "code",
      "source": [
        "# qubit 0 is now in state |1> (this is the state that we want to teleport)\n",
        "qc.x(0)\n",
        "qc.barrier() # visual aid"
      ],
      "metadata": {
        "colab": {
          "base_uri": "https://localhost:8080/"
        },
        "id": "Z-Lp5EKnWRAD",
        "outputId": "57b5737f-6e9e-4a66-d0bc-d180ffc8c4e2"
      },
      "execution_count": 54,
      "outputs": [
        {
          "output_type": "execute_result",
          "data": {
            "text/plain": [
              "<qiskit.circuit.instructionset.InstructionSet at 0x7fe07e3adb50>"
            ]
          },
          "metadata": {},
          "execution_count": 54
        }
      ]
    },
    {
      "cell_type": "markdown",
      "source": [
        "### Step 1: Create an entangled Bell pair between qubits 1 and 2"
      ],
      "metadata": {
        "id": "c_NrGv9vW_zz"
      }
    },
    {
      "cell_type": "code",
      "source": [
        "qc.h(1)\n",
        "qc.cx(1,2)\n",
        "qc.barrier() # visual aid"
      ],
      "metadata": {
        "colab": {
          "base_uri": "https://localhost:8080/"
        },
        "id": "KUo4NrE_WVGH",
        "outputId": "fb780e40-b637-4f63-b4b0-aef2b4298539"
      },
      "execution_count": 55,
      "outputs": [
        {
          "output_type": "execute_result",
          "data": {
            "text/plain": [
              "<qiskit.circuit.instructionset.InstructionSet at 0x7fe07e3c24d0>"
            ]
          },
          "metadata": {},
          "execution_count": 55
        }
      ]
    },
    {
      "cell_type": "markdown",
      "source": [
        "### Step 2: Application of a series of operations between the state to teleport and her half of the Bell pair"
      ],
      "metadata": {
        "id": "EFs2t2trXGiU"
      }
    },
    {
      "cell_type": "code",
      "source": [
        "qc.cx(0,1)\n",
        "qc.h(0)\n",
        "qc.barrier() # visual aid"
      ],
      "metadata": {
        "colab": {
          "base_uri": "https://localhost:8080/"
        },
        "id": "BL7Py3yZWU_j",
        "outputId": "c9e2478c-da80-4b4f-a7d8-81a5fe426ec6"
      },
      "execution_count": 56,
      "outputs": [
        {
          "output_type": "execute_result",
          "data": {
            "text/plain": [
              "<qiskit.circuit.instructionset.InstructionSet at 0x7fe07e3a7c50>"
            ]
          },
          "metadata": {},
          "execution_count": 56
        }
      ]
    },
    {
      "cell_type": "markdown",
      "source": [
        "### Step 3: Measures of both qubits 0 and 1"
      ],
      "metadata": {
        "id": "_KzTU55WXWRA"
      }
    },
    {
      "cell_type": "code",
      "source": [
        "# results stored in classical bits 0 and 1, respectively\n",
        "qc.measure([0, 1], [0, 1]) \n",
        "qc.barrier() # visual aid"
      ],
      "metadata": {
        "colab": {
          "base_uri": "https://localhost:8080/"
        },
        "id": "6-tVDDXSWU4E",
        "outputId": "e0799cf6-0795-4987-9e54-245ea876b571"
      },
      "execution_count": 57,
      "outputs": [
        {
          "output_type": "execute_result",
          "data": {
            "text/plain": [
              "<qiskit.circuit.instructionset.InstructionSet at 0x7fe07ece7bd0>"
            ]
          },
          "metadata": {},
          "execution_count": 57
        }
      ]
    },
    {
      "cell_type": "markdown",
      "source": [
        "### Step 4: States collapse to 0 and 1 of the measured qubits"
      ],
      "metadata": {
        "id": "Wjy1pq4nXcHb"
      }
    },
    {
      "cell_type": "code",
      "source": [
        "qc.cx(1, 2)\n",
        "qc.cz(0, 2)"
      ],
      "metadata": {
        "colab": {
          "base_uri": "https://localhost:8080/"
        },
        "id": "Lhnyf8joWdNS",
        "outputId": "e932c81f-e441-44a3-c80a-39f1dc603cf8"
      },
      "execution_count": 58,
      "outputs": [
        {
          "output_type": "execute_result",
          "data": {
            "text/plain": [
              "<qiskit.circuit.instructionset.InstructionSet at 0x7fe07ec09750>"
            ]
          },
          "metadata": {},
          "execution_count": 58
        }
      ]
    },
    {
      "cell_type": "markdown",
      "source": [
        "### Step 5: Measure qubit to find out what state it is in"
      ],
      "metadata": {
        "id": "onQpxvH_Xm-P"
      }
    },
    {
      "cell_type": "code",
      "source": [
        "qc.measure([2], [2])"
      ],
      "metadata": {
        "colab": {
          "base_uri": "https://localhost:8080/"
        },
        "id": "kDI3RdkHWeR-",
        "outputId": "207d5f9a-8b63-4cc4-f08e-1ccc037e58e1"
      },
      "execution_count": 59,
      "outputs": [
        {
          "output_type": "execute_result",
          "data": {
            "text/plain": [
              "<qiskit.circuit.instructionset.InstructionSet at 0x7fe07ec411d0>"
            ]
          },
          "metadata": {},
          "execution_count": 59
        }
      ]
    },
    {
      "cell_type": "markdown",
      "source": [
        "## Circuit Results"
      ],
      "metadata": {
        "id": "UgQn5MbSK_iz"
      }
    },
    {
      "cell_type": "markdown",
      "source": [
        "### Circuit Diagram"
      ],
      "metadata": {
        "id": "bcezx2bZIp_p"
      }
    },
    {
      "cell_type": "code",
      "execution_count": 60,
      "metadata": {
        "colab": {
          "base_uri": "https://localhost:8080/",
          "height": 156
        },
        "id": "I_7Y3QFEBNuR",
        "outputId": "c53549e7-d552-4cef-d515-679294d756d5"
      },
      "outputs": [
        {
          "output_type": "execute_result",
          "data": {
            "text/plain": [
              "     ┌───┐ ░            ░      ┌───┐ ░ ┌─┐    ░            \n",
              "q_0: ┤ X ├─░────────────░───■──┤ H ├─░─┤M├────░───────■────\n",
              "     └───┘ ░ ┌───┐      ░ ┌─┴─┐└───┘ ░ └╥┘┌─┐ ░       │    \n",
              "q_1: ──────░─┤ H ├──■───░─┤ X ├──────░──╫─┤M├─░───■───┼────\n",
              "           ░ └───┘┌─┴─┐ ░ └───┘      ░  ║ └╥┘ ░ ┌─┴─┐ │ ┌─┐\n",
              "q_2: ──────░──────┤ X ├─░────────────░──╫──╫──░─┤ X ├─■─┤M├\n",
              "           ░      └───┘ ░            ░  ║  ║  ░ └───┘   └╥┘\n",
              "c: 3/═══════════════════════════════════╩══╩═════════════╩═\n",
              "                                        0  1             2 "
            ],
            "text/html": [
              "<pre style=\"word-wrap: normal;white-space: pre;background: #fff0;line-height: 1.1;font-family: &quot;Courier New&quot;,Courier,monospace\">     ┌───┐ ░            ░      ┌───┐ ░ ┌─┐    ░            \n",
              "q_0: ┤ X ├─░────────────░───■──┤ H ├─░─┤M├────░───────■────\n",
              "     └───┘ ░ ┌───┐      ░ ┌─┴─┐└───┘ ░ └╥┘┌─┐ ░       │    \n",
              "q_1: ──────░─┤ H ├──■───░─┤ X ├──────░──╫─┤M├─░───■───┼────\n",
              "           ░ └───┘┌─┴─┐ ░ └───┘      ░  ║ └╥┘ ░ ┌─┴─┐ │ ┌─┐\n",
              "q_2: ──────░──────┤ X ├─░────────────░──╫──╫──░─┤ X ├─■─┤M├\n",
              "           ░      └───┘ ░            ░  ║  ║  ░ └───┘   └╥┘\n",
              "c: 3/═══════════════════════════════════╩══╩═════════════╩═\n",
              "                                        0  1             2 </pre>"
            ]
          },
          "metadata": {},
          "execution_count": 60
        }
      ],
      "source": [
        "# drawing the circuit diagram\n",
        "qc.draw()"
      ]
    },
    {
      "cell_type": "markdown",
      "source": [
        "### Circuit Simulation"
      ],
      "metadata": {
        "id": "r829e6OTLWBt"
      }
    },
    {
      "cell_type": "code",
      "source": [
        "simulator = Aer.get_backend('qasm_simulator')\n",
        "result = execute(qc, backend=simulator, shots=1024).result()"
      ],
      "metadata": {
        "id": "FhS3-waYLY1p"
      },
      "execution_count": 61,
      "outputs": []
    },
    {
      "cell_type": "markdown",
      "source": [
        "### Simulation Results"
      ],
      "metadata": {
        "id": "tDH1dEPiLdMh"
      }
    },
    {
      "cell_type": "code",
      "source": [
        "plot_histogram(result.get_counts(qc), title=\"Teleporation Circuit Results\", figsize=(10, 8))"
      ],
      "metadata": {
        "colab": {
          "base_uri": "https://localhost:8080/",
          "height": 519
        },
        "id": "X8Em_oTZKUN6",
        "outputId": "04522083-02cb-4e1f-f773-562f971f1029"
      },
      "execution_count": 73,
      "outputs": [
        {
          "output_type": "execute_result",
          "data": {
            "text/plain": [
              "<Figure size 720x576 with 1 Axes>"
            ],
            "image/png": "[encoded data removed]"
          },
          "metadata": {},
          "execution_count": 73
        }
      ]
    }
  ]
}