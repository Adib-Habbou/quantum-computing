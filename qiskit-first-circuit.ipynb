{
  "nbformat": 4,
  "nbformat_minor": 0,
  "metadata": {
    "colab": {
      "name": "qiskit-test.ipynb",
      "provenance": [],
      "toc_visible": true
    },
    "kernelspec": {
      "name": "python3",
      "display_name": "Python 3"
    },
    "language_info": {
      "name": "python"
    },
    "accelerator": "GPU",
    "gpuClass": "standard"
  },
  "cells": [
    {
      "cell_type": "markdown",
      "source": [
        "# Qiskit Demo"
      ],
      "metadata": {
        "id": "V8LeD9PCDt3U"
      }
    },
    {
      "cell_type": "markdown",
      "source": [
        "## Setup"
      ],
      "metadata": {
        "id": "kDbcLKwxKnYz"
      }
    },
    {
      "cell_type": "markdown",
      "source": [
        "### Installing Qiskit"
      ],
      "metadata": {
        "id": "OUM1vplIDxeq"
      }
    },
    {
      "cell_type": "code",
      "source": [
        "!pip install qiskit"
      ],
      "metadata": {
        "colab": {
          "base_uri": "https://localhost:8080/"
        },
        "id": "t-ppGGtNBQ-b",
        "outputId": "03a6f7c8-8a3b-4b45-a14a-2afb9f745bc6"
      },
      "execution_count": 23,
      "outputs": [
        {
          "output_type": "stream",
          "name": "stdout",
          "text": [
            "Looking in indexes: https://pypi.org/simple, https://us-python.pkg.dev/colab-wheels/public/simple/\n",
            "Requirement already satisfied: qiskit in /usr/local/lib/python3.7/dist-packages (0.37.1)\n",
            "Requirement already satisfied: qiskit-terra==0.21.1 in /usr/local/lib/python3.7/dist-packages (from qiskit) (0.21.1)\n",
            "Requirement already satisfied: qiskit-aer==0.10.4 in /usr/local/lib/python3.7/dist-packages (from qiskit) (0.10.4)\n",
            "Requirement already satisfied: qiskit-ibmq-provider==0.19.2 in /usr/local/lib/python3.7/dist-packages (from qiskit) (0.19.2)\n",
            "Requirement already satisfied: scipy>=1.0 in /usr/local/lib/python3.7/dist-packages (from qiskit-aer==0.10.4->qiskit) (1.7.3)\n",
            "Requirement already satisfied: numpy>=1.16.3 in /usr/local/lib/python3.7/dist-packages (from qiskit-aer==0.10.4->qiskit) (1.21.6)\n",
            "Requirement already satisfied: requests-ntlm>=1.1.0 in /usr/local/lib/python3.7/dist-packages (from qiskit-ibmq-provider==0.19.2->qiskit) (1.1.0)\n",
            "Requirement already satisfied: websocket-client>=1.0.1 in /usr/local/lib/python3.7/dist-packages (from qiskit-ibmq-provider==0.19.2->qiskit) (1.3.3)\n",
            "Requirement already satisfied: python-dateutil>=2.8.0 in /usr/local/lib/python3.7/dist-packages (from qiskit-ibmq-provider==0.19.2->qiskit) (2.8.2)\n",
            "Requirement already satisfied: urllib3>=1.21.1 in /usr/local/lib/python3.7/dist-packages (from qiskit-ibmq-provider==0.19.2->qiskit) (1.24.3)\n",
            "Requirement already satisfied: websockets>=10.0 in /usr/local/lib/python3.7/dist-packages (from qiskit-ibmq-provider==0.19.2->qiskit) (10.3)\n",
            "Requirement already satisfied: requests>=2.19 in /usr/local/lib/python3.7/dist-packages (from qiskit-ibmq-provider==0.19.2->qiskit) (2.23.0)\n",
            "Requirement already satisfied: typing-extensions in /usr/local/lib/python3.7/dist-packages (from qiskit-terra==0.21.1->qiskit) (4.1.1)\n",
            "Requirement already satisfied: dill>=0.3 in /usr/local/lib/python3.7/dist-packages (from qiskit-terra==0.21.1->qiskit) (0.3.5.1)\n",
            "Requirement already satisfied: symengine>=0.9 in /usr/local/lib/python3.7/dist-packages (from qiskit-terra==0.21.1->qiskit) (0.9.2)\n",
            "Requirement already satisfied: sympy>=1.3 in /usr/local/lib/python3.7/dist-packages (from qiskit-terra==0.21.1->qiskit) (1.7.1)\n",
            "Requirement already satisfied: stevedore>=3.0.0 in /usr/local/lib/python3.7/dist-packages (from qiskit-terra==0.21.1->qiskit) (3.5.0)\n",
            "Requirement already satisfied: psutil>=5 in /usr/local/lib/python3.7/dist-packages (from qiskit-terra==0.21.1->qiskit) (5.4.8)\n",
            "Requirement already satisfied: ply>=3.10 in /usr/local/lib/python3.7/dist-packages (from qiskit-terra==0.21.1->qiskit) (3.11)\n",
            "Requirement already satisfied: shared-memory38 in /usr/local/lib/python3.7/dist-packages (from qiskit-terra==0.21.1->qiskit) (0.1.2)\n",
            "Requirement already satisfied: tweedledum<2.0,>=1.1 in /usr/local/lib/python3.7/dist-packages (from qiskit-terra==0.21.1->qiskit) (1.1.1)\n",
            "Requirement already satisfied: retworkx>=0.11.0 in /usr/local/lib/python3.7/dist-packages (from qiskit-terra==0.21.1->qiskit) (0.11.0)\n",
            "Requirement already satisfied: six>=1.5 in /usr/local/lib/python3.7/dist-packages (from python-dateutil>=2.8.0->qiskit-ibmq-provider==0.19.2->qiskit) (1.15.0)\n",
            "Requirement already satisfied: certifi>=2017.4.17 in /usr/local/lib/python3.7/dist-packages (from requests>=2.19->qiskit-ibmq-provider==0.19.2->qiskit) (2022.6.15)\n",
            "Requirement already satisfied: chardet<4,>=3.0.2 in /usr/local/lib/python3.7/dist-packages (from requests>=2.19->qiskit-ibmq-provider==0.19.2->qiskit) (3.0.4)\n",
            "Requirement already satisfied: idna<3,>=2.5 in /usr/local/lib/python3.7/dist-packages (from requests>=2.19->qiskit-ibmq-provider==0.19.2->qiskit) (2.10)\n",
            "Requirement already satisfied: ntlm-auth>=1.0.2 in /usr/local/lib/python3.7/dist-packages (from requests-ntlm>=1.1.0->qiskit-ibmq-provider==0.19.2->qiskit) (1.5.0)\n",
            "Requirement already satisfied: cryptography>=1.3 in /usr/local/lib/python3.7/dist-packages (from requests-ntlm>=1.1.0->qiskit-ibmq-provider==0.19.2->qiskit) (37.0.4)\n",
            "Requirement already satisfied: cffi>=1.12 in /usr/local/lib/python3.7/dist-packages (from cryptography>=1.3->requests-ntlm>=1.1.0->qiskit-ibmq-provider==0.19.2->qiskit) (1.15.1)\n",
            "Requirement already satisfied: pycparser in /usr/local/lib/python3.7/dist-packages (from cffi>=1.12->cryptography>=1.3->requests-ntlm>=1.1.0->qiskit-ibmq-provider==0.19.2->qiskit) (2.21)\n",
            "Requirement already satisfied: pbr!=2.1.0,>=2.0.0 in /usr/local/lib/python3.7/dist-packages (from stevedore>=3.0.0->qiskit-terra==0.21.1->qiskit) (5.9.0)\n",
            "Requirement already satisfied: importlib-metadata>=1.7.0 in /usr/local/lib/python3.7/dist-packages (from stevedore>=3.0.0->qiskit-terra==0.21.1->qiskit) (4.12.0)\n",
            "Requirement already satisfied: zipp>=0.5 in /usr/local/lib/python3.7/dist-packages (from importlib-metadata>=1.7.0->stevedore>=3.0.0->qiskit-terra==0.21.1->qiskit) (3.8.1)\n",
            "Requirement already satisfied: mpmath>=0.19 in /usr/local/lib/python3.7/dist-packages (from sympy>=1.3->qiskit-terra==0.21.1->qiskit) (1.2.1)\n"
          ]
        }
      ]
    },
    {
      "cell_type": "markdown",
      "source": [
        "### Importing libraries"
      ],
      "metadata": {
        "id": "dY6r08RFKi1t"
      }
    },
    {
      "cell_type": "code",
      "source": [
        "from qiskit import QuantumCircuit, Aer\n",
        "from qiskit.tools.visualization import plot_histogram"
      ],
      "metadata": {
        "id": "-FaZ0rGTKgvU"
      },
      "execution_count": 24,
      "outputs": []
    },
    {
      "cell_type": "markdown",
      "source": [
        "## Building Circuit"
      ],
      "metadata": {
        "id": "_3hlcQ5JKznz"
      }
    },
    {
      "cell_type": "markdown",
      "source": [
        "### Circuit initialisation\n",
        "\n",
        "For the simplest programs with very few qubits, it is useful to represent this process in a diagram known as a circuit diagram.\n",
        "\n",
        "These have inputs on the left, outputs on the right, and operations represented by arcane symbols in between.\n",
        "\n",
        "These operations are called gates: [Quantum Logic Gates](https://en.wikipedia.org/wiki/Quantum_logic_gate)\n",
        "\n",
        "In a circuit, we typically need to do three jobs:\n",
        "\n",
        "* Encode the input\n",
        "* Do some actual computation\n",
        "* Extract an output"
      ],
      "metadata": {
        "id": "41t3ZEtSD3CE"
      }
    },
    {
      "cell_type": "code",
      "source": [
        "# creating circuit with 2 qubits\n",
        "qc = QuantumCircuit(2)"
      ],
      "metadata": {
        "id": "26A2nQnzD_pq"
      },
      "execution_count": 25,
      "outputs": []
    },
    {
      "cell_type": "markdown",
      "source": [
        "### H-gate\n",
        "\n",
        "The Hadamard gate (H-gate) allows us to move away from the poles of the Bloch sphere and create a superposition of $|0⟩$ and $|1⟩$.\n",
        "\n",
        "This can be thought of as a rotation around the Bloch vector $[1,0,1]$. It has the matrix: $H = \\frac{1}{\\sqrt{2}}\n",
        "\\begin{bmatrix}\n",
        "1 & 1 \\\\\n",
        "1 & -1\n",
        "\\end{bmatrix}$"
      ],
      "metadata": {
        "id": "ZMRK8hNHCpwI"
      }
    },
    {
      "cell_type": "code",
      "source": [
        "# adding an Hadamard gate on the first qubit q0\n",
        "qc.h(0)"
      ],
      "metadata": {
        "colab": {
          "base_uri": "https://localhost:8080/"
        },
        "id": "FUJN6qNsGN5G",
        "outputId": "8d62d97d-1e59-4d9a-8f8d-d4c23d03e4e8"
      },
      "execution_count": 26,
      "outputs": [
        {
          "output_type": "execute_result",
          "data": {
            "text/plain": [
              "<qiskit.circuit.instructionset.InstructionSet at 0x7f4343402410>"
            ]
          },
          "metadata": {},
          "execution_count": 26
        }
      ]
    },
    {
      "cell_type": "markdown",
      "source": [
        "### CNOT\n",
        "\n",
        "Conditional gate that performs an X-gate on the second qubit *target*, if the state of the first qubit *control* is $|1⟩$.\n",
        "\n",
        "An X-gate is represented by the matrix: $X = \n",
        "\\begin{bmatrix}\n",
        "0 & 1 \\\\\n",
        "1 & 0\n",
        "\\end{bmatrix}$"
      ],
      "metadata": {
        "id": "AO_J-9U7GPqm"
      }
    },
    {
      "cell_type": "code",
      "source": [
        "# adding a CNOT on the second qubit q1 controlled by q0\n",
        "qc.cx(0,1)"
      ],
      "metadata": {
        "colab": {
          "base_uri": "https://localhost:8080/"
        },
        "id": "UCyuJOMrHuWf",
        "outputId": "b11dbe7f-5001-4d2e-c8ab-6b4423dde255"
      },
      "execution_count": 27,
      "outputs": [
        {
          "output_type": "execute_result",
          "data": {
            "text/plain": [
              "<qiskit.circuit.instructionset.InstructionSet at 0x7f43434698d0>"
            ]
          },
          "metadata": {},
          "execution_count": 27
        }
      ]
    },
    {
      "cell_type": "markdown",
      "source": [
        "### Measurement\n",
        "\n",
        "Each measurement tells a specific qubit to give an output to a specific output bit. The following command adds a measurement to each qubit in the circuit in order to extract the outputs of the quantum circuit."
      ],
      "metadata": {
        "id": "2k8GrCwbHuuA"
      }
    },
    {
      "cell_type": "code",
      "source": [
        "# adding measurements to the circuit\n",
        "qc.measure_all()"
      ],
      "metadata": {
        "id": "__x3g2qGIoJN"
      },
      "execution_count": 28,
      "outputs": []
    },
    {
      "cell_type": "markdown",
      "source": [
        "## Circuit Results"
      ],
      "metadata": {
        "id": "UgQn5MbSK_iz"
      }
    },
    {
      "cell_type": "markdown",
      "source": [
        "### Circuit Diagram"
      ],
      "metadata": {
        "id": "bcezx2bZIp_p"
      }
    },
    {
      "cell_type": "code",
      "execution_count": 29,
      "metadata": {
        "colab": {
          "base_uri": "https://localhost:8080/",
          "height": 125
        },
        "id": "I_7Y3QFEBNuR",
        "outputId": "ab305f59-9de3-4405-f5e7-18d8ad44ccc7"
      },
      "outputs": [
        {
          "output_type": "execute_result",
          "data": {
            "text/plain": [
              "        ┌───┐      ░ ┌─┐   \n",
              "   q_0: ┤ H ├──■───░─┤M├───\n",
              "        └───┘┌─┴─┐ ░ └╥┘┌─┐\n",
              "   q_1: ─────┤ X ├─░──╫─┤M├\n",
              "             └───┘ ░  ║ └╥┘\n",
              "meas: 2/══════════════╩══╩═\n",
              "                      0  1 "
            ],
            "text/html": [
              "<pre style=\"word-wrap: normal;white-space: pre;background: #fff0;line-height: 1.1;font-family: &quot;Courier New&quot;,Courier,monospace\">        ┌───┐      ░ ┌─┐   \n",
              "   q_0: ┤ H ├──■───░─┤M├───\n",
              "        └───┘┌─┴─┐ ░ └╥┘┌─┐\n",
              "   q_1: ─────┤ X ├─░──╫─┤M├\n",
              "             └───┘ ░  ║ └╥┘\n",
              "meas: 2/══════════════╩══╩═\n",
              "                      0  1 </pre>"
            ]
          },
          "metadata": {},
          "execution_count": 29
        }
      ],
      "source": [
        "# drawing the circuit diagram\n",
        "qc.draw()"
      ]
    },
    {
      "cell_type": "markdown",
      "source": [
        "### Circuit Simulation"
      ],
      "metadata": {
        "id": "r829e6OTLWBt"
      }
    },
    {
      "cell_type": "code",
      "source": [
        "sim = Aer.get_backend('aer_simulator') \n",
        "result = sim.run(qc).result()"
      ],
      "metadata": {
        "id": "FhS3-waYLY1p"
      },
      "execution_count": 30,
      "outputs": []
    },
    {
      "cell_type": "markdown",
      "source": [
        "### Simulation Results"
      ],
      "metadata": {
        "id": "tDH1dEPiLdMh"
      }
    },
    {
      "cell_type": "code",
      "source": [
        "counts = result.get_counts()\n",
        "plot_histogram(counts)"
      ],
      "metadata": {
        "colab": {
          "base_uri": "https://localhost:8080/",
          "height": 334
        },
        "id": "X8Em_oTZKUN6",
        "outputId": "da43b6a6-caf5-47f1-be14-450aae968fac"
      },
      "execution_count": 31,
      "outputs": [
        {
          "output_type": "execute_result",
          "data": {
            "text/plain": [
              "<Figure size 504x360 with 1 Axes>"
            ],
            "image/png": "[encoded data removed]"
          },
          "metadata": {},
          "execution_count": 31
        }
      ]
    }
  ]
}